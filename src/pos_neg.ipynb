{
 "cells": [
  {
   "cell_type": "code",
   "execution_count": 179,
   "metadata": {},
   "outputs": [],
   "source": [
    "import pandas as pd\n",
    "from matplotlib import pyplot as plt\n",
    "from glob import glob\n",
    "from tqdm import tqdm\n",
    "import numpy as np\n",
    "import math\n",
    "from scipy.stats import pearsonr\n",
    "%matplotlib inline\n",
    "\n",
    "import warnings\n",
    "warnings.filterwarnings(\"ignore\")\n",
    "\n",
    "# unis    = pd.read_csv('all_insts.csv', index_col=0)\n",
    "# nprofit = unis[unis['CONTROL'].isin([1, 2])]\n",
    "# nprofit = list(nprofit['UNITID'].unique())\n",
    "\n",
    "all_dfs     = pd.read_csv('all_years_relevant.csv')\n",
    "# all_dfs = all_dfs[all_dfs['UNITID'].isin(nprofit)] \n"
   ]
  },
  {
   "cell_type": "code",
   "execution_count": 180,
   "metadata": {},
   "outputs": [
    {
     "data": {
      "text/plain": [
       "3405"
      ]
     },
     "execution_count": 180,
     "metadata": {},
     "output_type": "execute_result"
    }
   ],
   "source": [
    "all_dfs['UNITID'].nunique()"
   ]
  },
  {
   "cell_type": "code",
   "execution_count": 181,
   "metadata": {},
   "outputs": [],
   "source": [
    "all_cs  = all_dfs[all_dfs['cs']]\n",
    "national_cs = all_cs.groupby(['year']).sum().reset_index()"
   ]
  },
  {
   "cell_type": "code",
   "execution_count": 182,
   "metadata": {},
   "outputs": [
    {
     "data": {
      "text/html": [
       "<div>\n",
       "<style scoped>\n",
       "    .dataframe tbody tr th:only-of-type {\n",
       "        vertical-align: middle;\n",
       "    }\n",
       "\n",
       "    .dataframe tbody tr th {\n",
       "        vertical-align: top;\n",
       "    }\n",
       "\n",
       "    .dataframe thead th {\n",
       "        text-align: right;\n",
       "    }\n",
       "</style>\n",
       "<table border=\"1\" class=\"dataframe\">\n",
       "  <thead>\n",
       "    <tr style=\"text-align: right;\">\n",
       "      <th></th>\n",
       "      <th>UNITID</th>\n",
       "      <th>CIPCODE</th>\n",
       "      <th>AWLEVEL</th>\n",
       "      <th>year</th>\n",
       "      <th>cs</th>\n",
       "      <th>cs2</th>\n",
       "      <th>mth</th>\n",
       "      <th>bio</th>\n",
       "      <th>white_abs</th>\n",
       "      <th>white_men_abs</th>\n",
       "      <th>white_women_abs</th>\n",
       "      <th>women_abs</th>\n",
       "      <th>black_abs</th>\n",
       "      <th>black_men_abs</th>\n",
       "      <th>black_women_abs</th>\n",
       "      <th>hisp_abs</th>\n",
       "      <th>hisp_men_abs</th>\n",
       "      <th>hisp_women_abs</th>\n",
       "      <th>native_abs</th>\n",
       "      <th>total_abs</th>\n",
       "    </tr>\n",
       "  </thead>\n",
       "  <tbody>\n",
       "    <tr>\n",
       "      <th>8</th>\n",
       "      <td>100654</td>\n",
       "      <td>11.0101</td>\n",
       "      <td>5</td>\n",
       "      <td>2009</td>\n",
       "      <td>True</td>\n",
       "      <td>False</td>\n",
       "      <td>False</td>\n",
       "      <td>False</td>\n",
       "      <td>0.0</td>\n",
       "      <td>0.0</td>\n",
       "      <td>0.0</td>\n",
       "      <td>12.0</td>\n",
       "      <td>25.0</td>\n",
       "      <td>13.0</td>\n",
       "      <td>12.0</td>\n",
       "      <td>0.0</td>\n",
       "      <td>0.0</td>\n",
       "      <td>0.0</td>\n",
       "      <td>0.0</td>\n",
       "      <td>29.0</td>\n",
       "    </tr>\n",
       "    <tr>\n",
       "      <th>44</th>\n",
       "      <td>100663</td>\n",
       "      <td>11.0101</td>\n",
       "      <td>5</td>\n",
       "      <td>2009</td>\n",
       "      <td>True</td>\n",
       "      <td>False</td>\n",
       "      <td>False</td>\n",
       "      <td>False</td>\n",
       "      <td>13.0</td>\n",
       "      <td>12.0</td>\n",
       "      <td>1.0</td>\n",
       "      <td>1.0</td>\n",
       "      <td>1.0</td>\n",
       "      <td>1.0</td>\n",
       "      <td>0.0</td>\n",
       "      <td>0.0</td>\n",
       "      <td>0.0</td>\n",
       "      <td>0.0</td>\n",
       "      <td>0.0</td>\n",
       "      <td>14.0</td>\n",
       "    </tr>\n",
       "    <tr>\n",
       "      <th>107</th>\n",
       "      <td>100690</td>\n",
       "      <td>11.9999</td>\n",
       "      <td>5</td>\n",
       "      <td>2009</td>\n",
       "      <td>True</td>\n",
       "      <td>False</td>\n",
       "      <td>False</td>\n",
       "      <td>False</td>\n",
       "      <td>6.0</td>\n",
       "      <td>5.0</td>\n",
       "      <td>1.0</td>\n",
       "      <td>1.0</td>\n",
       "      <td>0.0</td>\n",
       "      <td>0.0</td>\n",
       "      <td>0.0</td>\n",
       "      <td>0.0</td>\n",
       "      <td>0.0</td>\n",
       "      <td>0.0</td>\n",
       "      <td>0.0</td>\n",
       "      <td>6.0</td>\n",
       "    </tr>\n",
       "    <tr>\n",
       "      <th>111</th>\n",
       "      <td>100706</td>\n",
       "      <td>11.0101</td>\n",
       "      <td>5</td>\n",
       "      <td>2009</td>\n",
       "      <td>True</td>\n",
       "      <td>False</td>\n",
       "      <td>False</td>\n",
       "      <td>False</td>\n",
       "      <td>18.0</td>\n",
       "      <td>15.0</td>\n",
       "      <td>3.0</td>\n",
       "      <td>3.0</td>\n",
       "      <td>2.0</td>\n",
       "      <td>2.0</td>\n",
       "      <td>0.0</td>\n",
       "      <td>2.0</td>\n",
       "      <td>2.0</td>\n",
       "      <td>0.0</td>\n",
       "      <td>0.0</td>\n",
       "      <td>24.0</td>\n",
       "    </tr>\n",
       "    <tr>\n",
       "      <th>112</th>\n",
       "      <td>100706</td>\n",
       "      <td>11.0101</td>\n",
       "      <td>5</td>\n",
       "      <td>2009</td>\n",
       "      <td>True</td>\n",
       "      <td>False</td>\n",
       "      <td>False</td>\n",
       "      <td>False</td>\n",
       "      <td>0.0</td>\n",
       "      <td>0.0</td>\n",
       "      <td>0.0</td>\n",
       "      <td>0.0</td>\n",
       "      <td>0.0</td>\n",
       "      <td>0.0</td>\n",
       "      <td>0.0</td>\n",
       "      <td>0.0</td>\n",
       "      <td>0.0</td>\n",
       "      <td>0.0</td>\n",
       "      <td>0.0</td>\n",
       "      <td>0.0</td>\n",
       "    </tr>\n",
       "    <tr>\n",
       "      <th>...</th>\n",
       "      <td>...</td>\n",
       "      <td>...</td>\n",
       "      <td>...</td>\n",
       "      <td>...</td>\n",
       "      <td>...</td>\n",
       "      <td>...</td>\n",
       "      <td>...</td>\n",
       "      <td>...</td>\n",
       "      <td>...</td>\n",
       "      <td>...</td>\n",
       "      <td>...</td>\n",
       "      <td>...</td>\n",
       "      <td>...</td>\n",
       "      <td>...</td>\n",
       "      <td>...</td>\n",
       "      <td>...</td>\n",
       "      <td>...</td>\n",
       "      <td>...</td>\n",
       "      <td>...</td>\n",
       "      <td>...</td>\n",
       "    </tr>\n",
       "    <tr>\n",
       "      <th>1859014</th>\n",
       "      <td>479956</td>\n",
       "      <td>11.0401</td>\n",
       "      <td>5</td>\n",
       "      <td>2012</td>\n",
       "      <td>True</td>\n",
       "      <td>False</td>\n",
       "      <td>False</td>\n",
       "      <td>False</td>\n",
       "      <td>14.0</td>\n",
       "      <td>13.0</td>\n",
       "      <td>1.0</td>\n",
       "      <td>1.0</td>\n",
       "      <td>0.0</td>\n",
       "      <td>0.0</td>\n",
       "      <td>0.0</td>\n",
       "      <td>1.0</td>\n",
       "      <td>1.0</td>\n",
       "      <td>0.0</td>\n",
       "      <td>0.0</td>\n",
       "      <td>16.0</td>\n",
       "    </tr>\n",
       "    <tr>\n",
       "      <th>1859034</th>\n",
       "      <td>480064</td>\n",
       "      <td>11.0103</td>\n",
       "      <td>5</td>\n",
       "      <td>2012</td>\n",
       "      <td>True</td>\n",
       "      <td>False</td>\n",
       "      <td>False</td>\n",
       "      <td>False</td>\n",
       "      <td>0.0</td>\n",
       "      <td>0.0</td>\n",
       "      <td>0.0</td>\n",
       "      <td>0.0</td>\n",
       "      <td>0.0</td>\n",
       "      <td>0.0</td>\n",
       "      <td>0.0</td>\n",
       "      <td>0.0</td>\n",
       "      <td>0.0</td>\n",
       "      <td>0.0</td>\n",
       "      <td>0.0</td>\n",
       "      <td>0.0</td>\n",
       "    </tr>\n",
       "    <tr>\n",
       "      <th>1859057</th>\n",
       "      <td>480134</td>\n",
       "      <td>11.0401</td>\n",
       "      <td>5</td>\n",
       "      <td>2012</td>\n",
       "      <td>True</td>\n",
       "      <td>False</td>\n",
       "      <td>False</td>\n",
       "      <td>False</td>\n",
       "      <td>10.0</td>\n",
       "      <td>6.0</td>\n",
       "      <td>4.0</td>\n",
       "      <td>5.0</td>\n",
       "      <td>1.0</td>\n",
       "      <td>0.0</td>\n",
       "      <td>1.0</td>\n",
       "      <td>1.0</td>\n",
       "      <td>1.0</td>\n",
       "      <td>0.0</td>\n",
       "      <td>0.0</td>\n",
       "      <td>12.0</td>\n",
       "    </tr>\n",
       "    <tr>\n",
       "      <th>1859058</th>\n",
       "      <td>480134</td>\n",
       "      <td>11.0401</td>\n",
       "      <td>5</td>\n",
       "      <td>2012</td>\n",
       "      <td>True</td>\n",
       "      <td>False</td>\n",
       "      <td>False</td>\n",
       "      <td>False</td>\n",
       "      <td>1.0</td>\n",
       "      <td>1.0</td>\n",
       "      <td>0.0</td>\n",
       "      <td>0.0</td>\n",
       "      <td>0.0</td>\n",
       "      <td>0.0</td>\n",
       "      <td>0.0</td>\n",
       "      <td>0.0</td>\n",
       "      <td>0.0</td>\n",
       "      <td>0.0</td>\n",
       "      <td>0.0</td>\n",
       "      <td>1.0</td>\n",
       "    </tr>\n",
       "    <tr>\n",
       "      <th>1859087</th>\n",
       "      <td>480569</td>\n",
       "      <td>11.0401</td>\n",
       "      <td>5</td>\n",
       "      <td>2012</td>\n",
       "      <td>True</td>\n",
       "      <td>False</td>\n",
       "      <td>False</td>\n",
       "      <td>False</td>\n",
       "      <td>26.0</td>\n",
       "      <td>21.0</td>\n",
       "      <td>5.0</td>\n",
       "      <td>12.0</td>\n",
       "      <td>5.0</td>\n",
       "      <td>2.0</td>\n",
       "      <td>3.0</td>\n",
       "      <td>3.0</td>\n",
       "      <td>2.0</td>\n",
       "      <td>1.0</td>\n",
       "      <td>0.0</td>\n",
       "      <td>41.0</td>\n",
       "    </tr>\n",
       "  </tbody>\n",
       "</table>\n",
       "<p>62554 rows × 20 columns</p>\n",
       "</div>"
      ],
      "text/plain": [
       "         UNITID  CIPCODE  AWLEVEL  year    cs    cs2    mth    bio  white_abs  \\\n",
       "8        100654  11.0101        5  2009  True  False  False  False        0.0   \n",
       "44       100663  11.0101        5  2009  True  False  False  False       13.0   \n",
       "107      100690  11.9999        5  2009  True  False  False  False        6.0   \n",
       "111      100706  11.0101        5  2009  True  False  False  False       18.0   \n",
       "112      100706  11.0101        5  2009  True  False  False  False        0.0   \n",
       "...         ...      ...      ...   ...   ...    ...    ...    ...        ...   \n",
       "1859014  479956  11.0401        5  2012  True  False  False  False       14.0   \n",
       "1859034  480064  11.0103        5  2012  True  False  False  False        0.0   \n",
       "1859057  480134  11.0401        5  2012  True  False  False  False       10.0   \n",
       "1859058  480134  11.0401        5  2012  True  False  False  False        1.0   \n",
       "1859087  480569  11.0401        5  2012  True  False  False  False       26.0   \n",
       "\n",
       "         white_men_abs  white_women_abs  women_abs  black_abs  black_men_abs  \\\n",
       "8                  0.0              0.0       12.0       25.0           13.0   \n",
       "44                12.0              1.0        1.0        1.0            1.0   \n",
       "107                5.0              1.0        1.0        0.0            0.0   \n",
       "111               15.0              3.0        3.0        2.0            2.0   \n",
       "112                0.0              0.0        0.0        0.0            0.0   \n",
       "...                ...              ...        ...        ...            ...   \n",
       "1859014           13.0              1.0        1.0        0.0            0.0   \n",
       "1859034            0.0              0.0        0.0        0.0            0.0   \n",
       "1859057            6.0              4.0        5.0        1.0            0.0   \n",
       "1859058            1.0              0.0        0.0        0.0            0.0   \n",
       "1859087           21.0              5.0       12.0        5.0            2.0   \n",
       "\n",
       "         black_women_abs  hisp_abs  hisp_men_abs  hisp_women_abs  native_abs  \\\n",
       "8                   12.0       0.0           0.0             0.0         0.0   \n",
       "44                   0.0       0.0           0.0             0.0         0.0   \n",
       "107                  0.0       0.0           0.0             0.0         0.0   \n",
       "111                  0.0       2.0           2.0             0.0         0.0   \n",
       "112                  0.0       0.0           0.0             0.0         0.0   \n",
       "...                  ...       ...           ...             ...         ...   \n",
       "1859014              0.0       1.0           1.0             0.0         0.0   \n",
       "1859034              0.0       0.0           0.0             0.0         0.0   \n",
       "1859057              1.0       1.0           1.0             0.0         0.0   \n",
       "1859058              0.0       0.0           0.0             0.0         0.0   \n",
       "1859087              3.0       3.0           2.0             1.0         0.0   \n",
       "\n",
       "         total_abs  \n",
       "8             29.0  \n",
       "44            14.0  \n",
       "107            6.0  \n",
       "111           24.0  \n",
       "112            0.0  \n",
       "...            ...  \n",
       "1859014       16.0  \n",
       "1859034        0.0  \n",
       "1859057       12.0  \n",
       "1859058        1.0  \n",
       "1859087       41.0  \n",
       "\n",
       "[62554 rows x 20 columns]"
      ]
     },
     "execution_count": 182,
     "metadata": {},
     "output_type": "execute_result"
    }
   ],
   "source": [
    "all_cs.groupby('UNITID').apply(lambda x: x)"
   ]
  },
  {
   "cell_type": "code",
   "execution_count": 183,
   "metadata": {},
   "outputs": [],
   "source": [
    "\n",
    "national_cs.set_index('year', inplace=True)\n",
    "\n",
    "national_cs['women_pct'] = 100*(national_cs['women_abs'] / national_cs['total_abs']).round(3)\n",
    "national_cs['black_pct'] = 100*(national_cs['black_abs'] / national_cs['total_abs']).round(3)\n",
    "national_cs['hisp_pct']  = 100*(national_cs['hisp_abs']  / national_cs['total_abs']).round(3)\n",
    "\n",
    "national_cs['black_women_pct'] = 100*(national_cs['black_women_abs'] / national_cs['total_abs']).round(3)\n",
    "national_cs['black_men_pct']   = 100*(national_cs['black_men_abs']   / national_cs['total_abs']).round(3)\n",
    "national_cs['hisp_men_pct']    = 100*(national_cs['hisp_men_abs']    / national_cs['total_abs']).round(3)\n",
    "national_cs['hisp_women_pct']  = 100*(national_cs['hisp_women_abs']  / national_cs['total_abs']).round(3)\n"
   ]
  },
  {
   "cell_type": "code",
   "execution_count": 184,
   "metadata": {},
   "outputs": [],
   "source": [
    "# insts_cs.groupby('year').apply(lambda x: pearsonr(x['black_pct'], x['black_pct'])[0]).plot()\n",
    "\n",
    "insts_cs = all_cs.groupby(['UNITID', 'year']).apply(lambda x: x['black_abs'].sum()/x['total_abs'].sum()).reset_index().rename(columns={0:'black_pct'})\n",
    "insts_cs = insts_cs.groupby('year').apply(lambda x: pd.Series({'mean':x['black_pct'].mean(), 'sem':x['black_pct'].sem()}))"
   ]
  },
  {
   "cell_type": "code",
   "execution_count": 185,
   "metadata": {},
   "outputs": [
    {
     "data": {
      "image/png": "[encoded data removed]",
      "text/plain": [
       "<Figure size 432x288 with 1 Axes>"
      ]
     },
     "metadata": {
      "needs_background": "light"
     },
     "output_type": "display_data"
    }
   ],
   "source": [
    "plt.errorbar(insts_cs.index, 100*insts_cs['mean'], yerr=100*insts_cs['sem'],marker='^', color='#2ca02c', label='Institutional Trend')\n",
    "\n",
    "plt.plot(national_cs['black_pct'], color='#ff7f0e', marker='o', label='National Trend')\n",
    "\n",
    "plt.xticks(range(2004, 2023, 2))\n",
    "\n",
    "plt.grid()\n",
    "plt.xlabel('Year');\n",
    "plt.ylabel('Percentage of Graduating Class');\n",
    "\n",
    "plt.legend();"
   ]
  },
  {
   "cell_type": "code",
   "execution_count": 186,
   "metadata": {},
   "outputs": [],
   "source": [
    "insts_cs = all_cs.groupby(['UNITID', 'year']).apply(lambda x: x['black_abs'].sum()/x['total_abs'].sum()).reset_index().rename(columns={0:'black_pct'})"
   ]
  },
  {
   "cell_type": "code",
   "execution_count": 187,
   "metadata": {},
   "outputs": [],
   "source": [
    "insts_cs = insts_cs.dropna()"
   ]
  },
  {
   "cell_type": "code",
   "execution_count": 188,
   "metadata": {},
   "outputs": [],
   "source": [
    "r = insts_cs.groupby('UNITID').apply(lambda x: pearsonr(x['year'], x['black_pct'])[0] if len(x) >= 2 else 0)\n",
    "pvals = insts_cs.groupby('UNITID').apply(lambda x: pearsonr(x['year'], x['black_pct'])[1] if len(x) >= 2 else 1)"
   ]
  },
  {
   "cell_type": "code",
   "execution_count": 189,
   "metadata": {},
   "outputs": [],
   "source": [
    "sig = r[pvals <= 0.01]\n",
    "neg = sig[sig < 0]\n",
    "pos = sig[sig > 0]"
   ]
  },
  {
   "cell_type": "code",
   "execution_count": 190,
   "metadata": {},
   "outputs": [],
   "source": [
    "# all_cs.groupby(['UNITID', 'year']).apply(lambda x: x['black_abs'].sum()/x['total_abs'].sum()).reset_index().rename(columns={0:'black_pct'})\n",
    "neg_data = all_cs[all_cs['UNITID'].isin(neg.index)]\n",
    "pos_data = all_cs[all_cs['UNITID'].isin(pos.index)]\n",
    "ns_data  = all_cs[all_cs['UNITID'].isin(pvals[pvals >= 0.01].index)]"
   ]
  },
  {
   "cell_type": "code",
   "execution_count": null,
   "metadata": {},
   "outputs": [],
   "source": []
  },
  {
   "cell_type": "code",
   "execution_count": 204,
   "metadata": {},
   "outputs": [
    {
     "data": {
      "text/plain": [
       "Text(0, 0.5, 'Black students as percentage of all Computing Graduates')"
      ]
     },
     "execution_count": 204,
     "metadata": {},
     "output_type": "execute_result"
    },
    {
     "data": {
      "image/png": "[encoded data removed]",
      "text/plain": [
       "<Figure size 864x432 with 3 Axes>"
      ]
     },
     "metadata": {
      "needs_background": "light"
     },
     "output_type": "display_data"
    }
   ],
   "source": [
    "fig, axs = plt.subplots(1, 3, figsize=(12, 6), sharey=True)\n",
    "\n",
    "\n",
    "neg_bm_tmp  = neg_data.groupby(['UNITID', 'year']).apply(lambda x: x['black_men_abs'].sum()/x['total_abs'].sum()).reset_index().rename(columns={0:'black_men_pct'})\n",
    "neg_bw_tmp  = neg_data.groupby(['UNITID', 'year']).apply(lambda x: x['black_women_abs'].sum()/x['total_abs'].sum()).reset_index().rename(columns={0:'black_women_pct'})\n",
    "neg_tmp     = neg_data.groupby(['UNITID', 'year']).apply(lambda x: x['black_abs'].sum()/x['total_abs'].sum()).reset_index().rename(columns={0:'black_pct'})\n",
    "\n",
    "neg_bm_line = neg_bm_tmp.groupby('year').apply( lambda x: pd.Series({'mean':x['black_men_pct'].mean(),      'sem':x['black_men_pct'].sem()}))\n",
    "neg_bw_line = neg_bw_tmp.groupby('year').apply( lambda x: pd.Series({'mean':x['black_women_pct'].mean(),    'sem':x['black_women_pct'].sem()}))\n",
    "neg_line    = neg_tmp.groupby('year').apply(    lambda x: pd.Series({'mean':x['black_pct'].mean(),          'sem':x['black_pct'].sem()}))\n",
    "\n",
    "axs[0].errorbar(neg_bm_line.index, 100*neg_bm_line['mean'], yerr=100*neg_bm_line['sem'],marker='^', color='darkorange', label='Men', linestyle='--')\n",
    "axs[0].errorbar(neg_bw_line.index, 100*neg_bw_line['mean'], yerr=100*neg_bw_line['sem'],marker='^', color='orange', label='Women', linestyle=':')\n",
    "axs[0].errorbar(neg_line.index, 100*neg_line['mean'], yerr=100*neg_line['sem'],marker='^', color='#d62728', label='All')\n",
    "axs[0].set_title(r'$r_{CS} < 0$'+'\\np-value < 0.01', fontsize=14)#\\nN=%s' % neg_data['UNITID'].nunique(), fontsize=14)\n",
    "axs[0].legend(fontsize=14)\n",
    "axs[0].grid()\n",
    "axs[0].set_xlabel('Year', fontsize=14)\n",
    "\n",
    "ns_bm_tmp  = ns_data.groupby(['UNITID', 'year']).apply(lambda x: x['black_men_abs'].sum()/x['total_abs'].sum()).reset_index().rename(columns={0:'black_men_pct'})\n",
    "ns_bw_tmp  = ns_data.groupby(['UNITID', 'year']).apply(lambda x: x['black_women_abs'].sum()/x['total_abs'].sum()).reset_index().rename(columns={0:'black_women_pct'})\n",
    "ns_tmp     = ns_data.groupby(['UNITID', 'year']).apply(lambda x: x['black_abs'].sum()/x['total_abs'].sum()).reset_index().rename(columns={0:'black_pct'})\n",
    "\n",
    "ns_bm_line = ns_bm_tmp.groupby('year').apply(   lambda x: pd.Series({  'mean':x['black_men_pct'].mean(),     'sem':x['black_men_pct'].sem()}))\n",
    "ns_bw_line = ns_bw_tmp.groupby('year').apply(   lambda x: pd.Series({  'mean':x['black_women_pct'].mean(),   'sem':x['black_women_pct'].sem()}))\n",
    "ns_line    = ns_tmp.groupby('year').apply(      lambda x: pd.Series({  'mean':x['black_pct'].mean(),         'sem':x['black_pct'].sem()}))\n",
    "\n",
    "axs[1].errorbar(ns_bm_line.index, 100*ns_bm_line['mean'], yerr=100*ns_bm_line['sem'],marker='^', color='gray', label='Men')\n",
    "axs[1].errorbar(ns_bw_line.index, 100*ns_bw_line['mean'], yerr=100*ns_bw_line['sem'],marker='^', color='darkgray', label='Women')\n",
    "axs[1].errorbar(ns_line.index, 100*ns_line['mean'], yerr=100*ns_line['sem'],marker='^', color='black', label='All')\n",
    "axs[1].set_title('p-value $\\geq$ 0.01', fontsize=14)#\\nN=%s' % ns_data['UNITID'].nunique(), fontsize=14)\n",
    "axs[1].grid()\n",
    "axs[1].legend(fontsize=14)\n",
    "axs[1].set_xlabel('Year', fontsize=14)\n",
    "\n",
    "pos_bm_tmp  = pos_data.groupby(['UNITID', 'year']).apply(lambda x: x['black_men_abs'].sum()/x['total_abs'].sum()).reset_index().rename(columns={0:'black_men_pct'})\n",
    "pos_bw_tmp  = pos_data.groupby(['UNITID', 'year']).apply(lambda x: x['black_women_abs'].sum()/x['total_abs'].sum()).reset_index().rename(columns={0:'black_women_pct'})\n",
    "pos_tmp     = pos_data.groupby(['UNITID', 'year']).apply(lambda x: x['black_abs'].sum()/x['total_abs'].sum()).reset_index().rename(columns={0:'black_pct'})\n",
    "\n",
    "pos_bm_line = pos_bm_tmp.groupby('year').apply(lambda x: pd.Series({'mean':x['black_men_pct'].mean(), 'sem':x['black_men_pct'].sem()}))\n",
    "pos_bw_line = pos_bw_tmp.groupby('year').apply(lambda x: pd.Series({'mean':x['black_women_pct'].mean(), 'sem':x['black_women_pct'].sem()}))\n",
    "pos_line    = pos_tmp.groupby('year').apply(lambda x: pd.Series({'mean':x['black_pct'].mean(), 'sem':x['black_pct'].sem()}))\n",
    "\n",
    "axs[2].errorbar(pos_bm_line.index, 100*pos_bm_line['mean'], yerr=100*pos_bm_line['sem'],marker='^', color='blue', label='Men')\n",
    "axs[2].errorbar(pos_bw_line.index, 100*pos_bw_line['mean'], yerr=100*pos_bw_line['sem'],marker='^', color='lightblue', label='Women')\n",
    "axs[2].errorbar(pos_line.index, 100*pos_line['mean'], yerr=100*pos_line['sem'],marker='^', color='#1f77b4', label='All')\n",
    "axs[2].set_title(r'$r_{CS} > 0$'+'\\np-value < 0.01', fontsize=14)#\\nN=%s' % pos_data['UNITID'].nunique(), fontsize=14)\n",
    "axs[2].grid()\n",
    "axs[2].legend(fontsize=14)\n",
    "axs[2].set_xlabel('Year', fontsize=14)\n",
    "\n",
    "axs[0].set_ylabel('Black students as percentage of all Computing Graduates', fontsize=14)"
   ]
  },
  {
   "cell_type": "code",
   "execution_count": 197,
   "metadata": {},
   "outputs": [],
   "source": [
    "size = all_dfs.groupby('UNITID')['total_abs'].sum()\n",
    "size = size/all_dfs['year'].nunique()\n",
    "\n",
    "size_pos = size.loc[pos.index].reset_index()\n",
    "size_neg = size.loc[neg.index].reset_index()\n",
    "size_pos['group'] = 'pos'\n",
    "size_neg['group'] = 'neg'\n",
    "\n",
    "size_both = pd.concat([size_pos, size_neg])"
   ]
  },
  {
   "cell_type": "code",
   "execution_count": 198,
   "metadata": {},
   "outputs": [
    {
     "data": {
      "text/plain": [
       "Ttest_indResult(statistic=-2.55808981552424, pvalue=0.011813451542030918)"
      ]
     },
     "execution_count": 198,
     "metadata": {},
     "output_type": "execute_result"
    }
   ],
   "source": [
    "from scipy.stats import ttest_ind\n",
    "\n",
    "ttest_ind(size_pos['total_abs'], size_neg['total_abs'])"
   ]
  },
  {
   "cell_type": "code",
   "execution_count": 205,
   "metadata": {},
   "outputs": [
    {
     "data": {
      "image/png": "[encoded data removed]",
      "text/plain": [
       "<Figure size 288x288 with 1 Axes>"
      ]
     },
     "metadata": {
      "needs_background": "light"
     },
     "output_type": "display_data"
    }
   ],
   "source": [
    "plt.figure(figsize=(4, 4))\n",
    "# ax = sns.boxplot(data=size_both, x='group', y='total_abs', showfliers=False)\n",
    "# ax = sns.barplot(data=size_both, x='group', y='total_abs', alpha=0.8)\n",
    "ax = sns.barplot(data=size_both, x='group', y='total_abs', alpha=0.8)\n",
    "# plt.xticks([0, 1], [r'$r_{CS}>0$'+'\\nN=85', r'$r_{CS}<0$'+'\\nN=33'], fontsize=14);\n",
    "plt.xticks([0, 1], [r'$r_{CS}>0$', r'$r_{CS}<0$'], fontsize=14);\n",
    "plt.xlabel('');\n",
    "plt.ylabel('Average Graduating Class Size', fontsize=14);\n",
    "\n",
    "bars = ax.containers\n",
    "for bar, color in zip(ax.containers, ['blue', 'red']):\n",
    "    bar[0].set_facecolor('blue')\n",
    "    bar[1].set_facecolor('red')\n",
    "\n",
    "plt.title(r'$t=-2.19~~~~p = 0.004$', fontsize=14);"
   ]
  },
  {
   "cell_type": "code",
   "execution_count": 195,
   "metadata": {},
   "outputs": [
    {
     "data": {
      "text/plain": [
       "<AxesSubplot:xlabel='group', ylabel='INSTSIZE'>"
      ]
     },
     "execution_count": 195,
     "metadata": {},
     "output_type": "execute_result"
    },
    {
     "data": {
      "image/png": "[encoded data removed]",
      "text/plain": [
       "<Figure size 432x288 with 1 Axes>"
      ]
     },
     "metadata": {
      "needs_background": "light"
     },
     "output_type": "display_data"
    }
   ],
   "source": [
    "unis_pos = unis[unis['UNITID'].isin(pos.index)]\n",
    "unis_neg = unis[unis['UNITID'].isin(neg.index)]\n",
    "unis_pos['group'] = 'pos'\n",
    "unis_neg['group'] = 'neg'\n",
    "\n",
    "import seaborn as sns \n",
    "sns.barplot(data=pd.concat([unis_pos, unis_neg]), x='group', y='INSTSIZE')"
   ]
  },
  {
   "cell_type": "code",
   "execution_count": 196,
   "metadata": {},
   "outputs": [
    {
     "data": {
      "text/plain": [
       "<AxesSubplot:xlabel='CONTROL', ylabel='black_pct'>"
      ]
     },
     "execution_count": 196,
     "metadata": {},
     "output_type": "execute_result"
    },
    {
     "data": {
      "image/png": "[encoded data removed]",
      "text/plain": [
       "<Figure size 432x288 with 1 Axes>"
      ]
     },
     "metadata": {
      "needs_background": "light"
     },
     "output_type": "display_data"
    }
   ],
   "source": [
    "pos_tmp['group'] = 'pos'\n",
    "neg_tmp['group'] = 'neg'\n",
    "pos_neg = pd.concat([pos_tmp, neg_tmp])\n",
    "\n",
    "pos_neg_merged = pd.merge(unis, pos_neg, on='UNITID')\n",
    "\n",
    "sns.boxplot(data=pos_neg_merged, x='CONTROL', y='black_pct', hue='group', showfliers=False)"
   ]
  }
 ],
 "metadata": {
  "kernelspec": {
   "display_name": "base",
   "language": "python",
   "name": "python3"
  },
  "language_info": {
   "codemirror_mode": {
    "name": "ipython",
    "version": 3
   },
   "file_extension": ".py",
   "mimetype": "text/x-python",
   "name": "python",
   "nbconvert_exporter": "python",
   "pygments_lexer": "ipython3",
   "version": "3.9.12"
  }
 },
 "nbformat": 4,
 "nbformat_minor": 2
}
